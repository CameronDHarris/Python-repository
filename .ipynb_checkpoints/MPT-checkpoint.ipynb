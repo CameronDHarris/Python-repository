{
 "cells": [
  {
   "cell_type": "code",
   "execution_count": 1,
   "metadata": {},
   "outputs": [],
   "source": [
    "import pandas as pd\n",
    "import numpy as np\n",
    "from pandas_datareader import data\n",
    "import cvxpy as cp"
   ]
  },
  {
   "cell_type": "code",
   "execution_count": 2,
   "metadata": {},
   "outputs": [],
   "source": [
    "tickers = ['AAPL', 'GOOG', 'AMZN', 'BP', 'TSLA']\n",
    "prices = pd.DataFrame()"
   ]
  },
  {
   "cell_type": "code",
   "execution_count": 3,
   "metadata": {},
   "outputs": [],
   "source": [
    "for ticker in tickers:\n",
    "    prices = prices.append(data.DataReader(ticker,\n",
    "                                 start = '2019-1-14',\n",
    "                                 end = '2020-4-14',\n",
    "                                 data_source = 'yahoo')['Adj Close'].rename(ticker)\n",
    "                          )\n",
    "\n"
   ]
  },
  {
   "cell_type": "code",
   "execution_count": 4,
   "metadata": {},
   "outputs": [],
   "source": [
    "prices = prices.transpose()"
   ]
  },
  {
   "cell_type": "code",
   "execution_count": 5,
   "metadata": {},
   "outputs": [],
   "source": [
    "vrnce = np.array([])\n",
    "for ticker in tickers:\n",
    "    vrnce = np.append(vrnce, prices[ticker].var())"
   ]
  },
  {
   "cell_type": "code",
   "execution_count": 11,
   "metadata": {},
   "outputs": [
    {
     "data": {
      "text/html": [
       "<div>\n",
       "<style scoped>\n",
       "    .dataframe tbody tr th:only-of-type {\n",
       "        vertical-align: middle;\n",
       "    }\n",
       "\n",
       "    .dataframe tbody tr th {\n",
       "        vertical-align: top;\n",
       "    }\n",
       "\n",
       "    .dataframe thead th {\n",
       "        text-align: right;\n",
       "    }\n",
       "</style>\n",
       "<table border=\"1\" class=\"dataframe\">\n",
       "  <thead>\n",
       "    <tr style=\"text-align: right;\">\n",
       "      <th></th>\n",
       "      <th>AAPL</th>\n",
       "      <th>GOOG</th>\n",
       "      <th>AMZN</th>\n",
       "      <th>BP</th>\n",
       "      <th>TSLA</th>\n",
       "    </tr>\n",
       "  </thead>\n",
       "  <tbody>\n",
       "    <tr>\n",
       "      <td>2019-01-14</td>\n",
       "      <td>147.429718</td>\n",
       "      <td>1044.689941</td>\n",
       "      <td>1617.209961</td>\n",
       "      <td>37.367577</td>\n",
       "      <td>334.399994</td>\n",
       "    </tr>\n",
       "    <tr>\n",
       "      <td>2019-01-15</td>\n",
       "      <td>150.447128</td>\n",
       "      <td>1077.150024</td>\n",
       "      <td>1674.560059</td>\n",
       "      <td>37.201172</td>\n",
       "      <td>344.429993</td>\n",
       "    </tr>\n",
       "    <tr>\n",
       "      <td>2019-01-16</td>\n",
       "      <td>152.285080</td>\n",
       "      <td>1080.969971</td>\n",
       "      <td>1683.780029</td>\n",
       "      <td>37.090233</td>\n",
       "      <td>346.049988</td>\n",
       "    </tr>\n",
       "    <tr>\n",
       "      <td>2019-01-17</td>\n",
       "      <td>153.189301</td>\n",
       "      <td>1089.900024</td>\n",
       "      <td>1693.219971</td>\n",
       "      <td>37.099483</td>\n",
       "      <td>347.309998</td>\n",
       "    </tr>\n",
       "    <tr>\n",
       "      <td>2019-01-18</td>\n",
       "      <td>154.132858</td>\n",
       "      <td>1098.260010</td>\n",
       "      <td>1696.199951</td>\n",
       "      <td>37.681900</td>\n",
       "      <td>302.260010</td>\n",
       "    </tr>\n",
       "    <tr>\n",
       "      <td>...</td>\n",
       "      <td>...</td>\n",
       "      <td>...</td>\n",
       "      <td>...</td>\n",
       "      <td>...</td>\n",
       "      <td>...</td>\n",
       "    </tr>\n",
       "    <tr>\n",
       "      <td>2020-04-07</td>\n",
       "      <td>259.429993</td>\n",
       "      <td>1186.510010</td>\n",
       "      <td>2011.599976</td>\n",
       "      <td>24.799999</td>\n",
       "      <td>545.450012</td>\n",
       "    </tr>\n",
       "    <tr>\n",
       "      <td>2020-04-08</td>\n",
       "      <td>266.070007</td>\n",
       "      <td>1210.280029</td>\n",
       "      <td>2043.000000</td>\n",
       "      <td>25.389999</td>\n",
       "      <td>548.840027</td>\n",
       "    </tr>\n",
       "    <tr>\n",
       "      <td>2020-04-09</td>\n",
       "      <td>267.989990</td>\n",
       "      <td>1211.449951</td>\n",
       "      <td>2042.760010</td>\n",
       "      <td>24.900000</td>\n",
       "      <td>573.000000</td>\n",
       "    </tr>\n",
       "    <tr>\n",
       "      <td>2020-04-13</td>\n",
       "      <td>273.250000</td>\n",
       "      <td>1217.560059</td>\n",
       "      <td>2168.870117</td>\n",
       "      <td>24.910000</td>\n",
       "      <td>650.950012</td>\n",
       "    </tr>\n",
       "    <tr>\n",
       "      <td>2020-04-14</td>\n",
       "      <td>287.049988</td>\n",
       "      <td>1269.229980</td>\n",
       "      <td>2283.320068</td>\n",
       "      <td>24.440001</td>\n",
       "      <td>709.890015</td>\n",
       "    </tr>\n",
       "  </tbody>\n",
       "</table>\n",
       "<p>315 rows × 5 columns</p>\n",
       "</div>"
      ],
      "text/plain": [
       "                  AAPL         GOOG         AMZN         BP        TSLA\n",
       "2019-01-14  147.429718  1044.689941  1617.209961  37.367577  334.399994\n",
       "2019-01-15  150.447128  1077.150024  1674.560059  37.201172  344.429993\n",
       "2019-01-16  152.285080  1080.969971  1683.780029  37.090233  346.049988\n",
       "2019-01-17  153.189301  1089.900024  1693.219971  37.099483  347.309998\n",
       "2019-01-18  154.132858  1098.260010  1696.199951  37.681900  302.260010\n",
       "...                ...          ...          ...        ...         ...\n",
       "2020-04-07  259.429993  1186.510010  2011.599976  24.799999  545.450012\n",
       "2020-04-08  266.070007  1210.280029  2043.000000  25.389999  548.840027\n",
       "2020-04-09  267.989990  1211.449951  2042.760010  24.900000  573.000000\n",
       "2020-04-13  273.250000  1217.560059  2168.870117  24.910000  650.950012\n",
       "2020-04-14  287.049988  1269.229980  2283.320068  24.440001  709.890015\n",
       "\n",
       "[315 rows x 5 columns]"
      ]
     },
     "execution_count": 11,
     "metadata": {},
     "output_type": "execute_result"
    }
   ],
   "source": [
    "prices"
   ]
  },
  {
   "cell_type": "code",
   "execution_count": 7,
   "metadata": {},
   "outputs": [
    {
     "data": {
      "text/plain": [
       "13461.314876008426"
      ]
     },
     "execution_count": 7,
     "metadata": {},
     "output_type": "execute_result"
    }
   ],
   "source": [
    "prices['GOOG'].var()"
   ]
  },
  {
   "cell_type": "code",
   "execution_count": 132,
   "metadata": {},
   "outputs": [
    {
     "name": "stdout",
     "output_type": "stream",
     "text": [
      "[[ 2.24752942e+03  4.85698293e+03  2.97903380e+03 -8.16797077e+01\n",
      "   6.08695632e+03]\n",
      " [ 4.85698293e+03  1.34613149e+04  5.92263367e+03  5.79031256e+00\n",
      "   1.31775971e+04]\n",
      " [ 2.97903380e+03  5.92263367e+03  1.44709667e+04 -1.27085009e+02\n",
      "   1.02451993e+04]\n",
      " [-8.16797077e+01  5.79031256e+00 -1.27085009e+02  2.25980232e+01\n",
      "  -3.53195671e+02]\n",
      " [ 6.08695632e+03  1.31775971e+04  1.02451993e+04 -3.53195671e+02\n",
      "   2.70392099e+04]]\n"
     ]
    }
   ],
   "source": [
    "cov_matrix = (prices.cov()).to_numpy()\n",
    "print(cov_matrix)"
   ]
  },
  {
   "cell_type": "code",
   "execution_count": 133,
   "metadata": {},
   "outputs": [
    {
     "name": "stdout",
     "output_type": "stream",
     "text": [
      "[[ 7.45740229e+07  1.74152299e+08  1.40943557e+08 -2.68577705e+06\n",
      "   2.72820111e+08]\n",
      " [ 1.74152299e+08  4.13523969e+08  3.14908161e+08 -5.72558906e+06\n",
      "   6.23940358e+08]\n",
      " [ 1.40943557e+08  3.14908161e+08  3.58341370e+08 -5.66950756e+06\n",
      "   5.21504248e+08]\n",
      " [-2.68577705e+06 -5.72558906e+06 -5.66950756e+06  1.48113554e+05\n",
      "  -1.12810031e+07]\n",
      " [ 2.72820111e+08  6.23940358e+08  5.21504248e+08 -1.12810031e+07\n",
      "   1.04690783e+09]]\n"
     ]
    }
   ],
   "source": [
    "cov_matrix = cov_matrix.T.dot(cov_matrix)\n",
    "print(cov_matrix)"
   ]
  },
  {
   "cell_type": "code",
   "execution_count": 126,
   "metadata": {},
   "outputs": [
    {
     "name": "stdout",
     "output_type": "stream",
     "text": [
      "57241.61898420616\n"
     ]
    }
   ],
   "source": [
    "print(cov_matrix)"
   ]
  },
  {
   "cell_type": "code",
   "execution_count": 77,
   "metadata": {},
   "outputs": [],
   "source": [
    "returns = np.array([])\n",
    "\n",
    "for ticker in tickers:\n",
    "    returns = np.append(returns, (prices[ticker][-1] - prices[ticker][0]) / prices[ticker][0])\n",
    "    "
   ]
  },
  {
   "cell_type": "code",
   "execution_count": 115,
   "metadata": {},
   "outputs": [
    {
     "name": "stdout",
     "output_type": "stream",
     "text": [
      "[ 0.94702935  0.21493462  0.41188845 -0.34595704  1.12287688] * var268\n"
     ]
    }
   ],
   "source": [
    "print(returns)"
   ]
  },
  {
   "cell_type": "code",
   "execution_count": 108,
   "metadata": {},
   "outputs": [],
   "source": [
    "gamma = cp.Parameter(nonneg = True)"
   ]
  },
  {
   "cell_type": "code",
   "execution_count": 121,
   "metadata": {},
   "outputs": [
    {
     "data": {
      "text/plain": [
       "Parameter((), nonneg=True)"
      ]
     },
     "execution_count": 121,
     "metadata": {},
     "output_type": "execute_result"
    }
   ],
   "source": [
    "gamma"
   ]
  },
  {
   "cell_type": "code",
   "execution_count": 78,
   "metadata": {},
   "outputs": [
    {
     "name": "stdout",
     "output_type": "stream",
     "text": [
      "[ 0.94702935  0.21493462  0.41188845 -0.34595704  1.12287688] * var268\n"
     ]
    }
   ],
   "source": [
    "returns = returns.T*w\n",
    "print(returns)"
   ]
  },
  {
   "cell_type": "code",
   "execution_count": 141,
   "metadata": {},
   "outputs": [],
   "source": [
    "w = cp.Variable(5)\n",
    "risk = cp.quad_form(w, cov_matrix)\n",
    "objective = cp.Problem(cp.Maximize(returns - gamma * risk),\n",
    "                       [cp.sum(w) == 1,\n",
    "                       w >= 0,\n",
    "                       w <= 1])"
   ]
  },
  {
   "cell_type": "code",
   "execution_count": 144,
   "metadata": {},
   "outputs": [
    {
     "data": {
      "text/plain": [
       "1195259.0931184618"
      ]
     },
     "execution_count": 144,
     "metadata": {},
     "output_type": "execute_result"
    }
   ],
   "source": [
    "gamma.value = 5\n",
    "objective.solve()"
   ]
  },
  {
   "cell_type": "code",
   "execution_count": 145,
   "metadata": {},
   "outputs": [
    {
     "data": {
      "text/plain": [
       "Solution(optimal, {268: array([ 503289.57856305,  114224.92469989,  218894.13016478,\n",
       "       -183855.5177421 ,  596742.0451309 ]), 1329: array([-5.58096583e-23, -3.22975552e-24,  6.34011917e-04,  9.89000010e-01,\n",
       "        1.03659778e-02])}, {1337: -259511.43611075293, 1341: array([2352224.42759907, 9788486.54794401,       0.        ,\n",
       "             0.        ,       0.        ]), 1345: array([0., 0., 0., 0., 0.])}, {'solve_time': 0.0001159, 'num_iters': 150})"
      ]
     },
     "execution_count": 145,
     "metadata": {},
     "output_type": "execute_result"
    }
   ],
   "source": [
    "objective.solution"
   ]
  },
  {
   "cell_type": "code",
   "execution_count": 84,
   "metadata": {},
   "outputs": [],
   "source": [
    "np.random.seed(1)\n",
    "n = 10\n",
    "mu = np.abs(np.random.randn(n, 1))\n",
    "Sigma = np.random.randn(n, n)\n",
    "Sigma = Sigma.T.dot(Sigma)\n",
    "\n",
    "w = cp.Variable(n)\n",
    "gamma = cp.Parameter(nonneg=True)\n",
    "ret = mu.T*w \n",
    "risk = cp.quad_form(w, Sigma)\n",
    "prob = cp.Problem(cp.Maximize(ret - 5 * risk), \n",
    "               [cp.sum(w) == 1, \n",
    "                w >= 0])"
   ]
  },
  {
   "cell_type": "code",
   "execution_count": 107,
   "metadata": {},
   "outputs": [
    {
     "name": "stdout",
     "output_type": "stream",
     "text": [
      "[[ 8.29575866 -4.43063617 -2.4779362  -3.12228779  1.18688183  2.41923866\n",
      "  -0.13461465 -2.48663202 -3.3612392   0.42673536]\n",
      " [-4.43063617 10.02212085  3.98362518  0.03333264 -1.85899341  2.97034211\n",
      "   2.74289707 -1.29701403  0.89751142 -3.93922325]\n",
      " [-2.4779362   3.98362518  3.87977667  0.83529962  0.84598769 -0.74827504\n",
      "   0.44555862 -2.7734192  -0.50591539 -2.32453459]\n",
      " [-3.12228779  0.03333264  0.83529962  5.88579947  0.03537646 -2.84278637\n",
      "   0.75743519  2.73138673 -1.61206076  1.27144642]\n",
      " [ 1.18688183 -1.85899341  0.84598769  0.03537646  4.34954178 -2.81367077\n",
      "  -0.35505225  0.05792198 -0.16776099  0.52909798]\n",
      " [ 2.41923866  2.97034211 -0.74827504 -2.84278637 -2.81367077  6.57113899\n",
      "   1.21109676 -1.09167712 -0.50230869 -2.12843701]\n",
      " [-0.13461465  2.74289707  0.44555862  0.75743519 -0.35505225  1.21109676\n",
      "   4.52435088  1.67846217  0.7708153  -2.92132792]\n",
      " [-2.48663202 -1.29701403 -2.7734192   2.73138673  0.05792198 -1.09167712\n",
      "   1.67846217 11.02865838  4.9060277   0.22075494]\n",
      " [-3.3612392   0.89751142 -0.50591539 -1.61206076 -0.16776099 -0.50230869\n",
      "   0.7708153   4.9060277   8.22428479 -1.73956017]\n",
      " [ 0.42673536 -3.93922325 -2.32453459  1.27144642  0.52909798 -2.12843701\n",
      "  -2.92132792  0.22075494 -1.73956017  6.63090397]]\n"
     ]
    }
   ],
   "source": [
    "print(Sigma)"
   ]
  },
  {
   "cell_type": "code",
   "execution_count": 86,
   "metadata": {},
   "outputs": [
    {
     "data": {
      "text/plain": [
       "Solution(optimal, {430: array([ 1.58574630e-01, -3.15735714e-23,  2.25656585e-01,  1.35502004e-01,\n",
       "        1.23183998e-02,  1.24707956e-01,  4.27610984e-02,  8.02598511e-03,\n",
       "        1.44333793e-01,  1.48119549e-01])}, {440: -0.3949575102600477, 444: array([0.        , 1.00660211, 0.        , 0.        , 0.        ,\n",
       "       0.        , 0.        , 0.        , 0.        , 0.        ])}, {'solve_time': 0.0001019, 'num_iters': 50})"
      ]
     },
     "execution_count": 86,
     "metadata": {},
     "output_type": "execute_result"
    }
   ],
   "source": [
    "prob.solution"
   ]
  },
  {
   "cell_type": "code",
   "execution_count": 128,
   "metadata": {},
   "outputs": [
    {
     "name": "stdout",
     "output_type": "stream",
     "text": [
      "[[-1.37311732  0.31515939  0.84616065 -0.85951594  0.35054598 -1.31228341\n",
      "  -0.03869551 -1.61577235  1.12141771  0.40890054]\n",
      " [-0.02461696 -0.77516162  1.27375593  1.96710175 -1.85798186  1.23616403\n",
      "   1.62765075  0.3380117  -1.19926803  0.86334532]\n",
      " [-0.1809203  -0.60392063 -1.23005814  0.5505375   0.79280687 -0.62353073\n",
      "   0.52057634 -1.14434139  0.80186103  0.0465673 ]\n",
      " [-0.18656977 -0.10174587  0.86888616  0.75041164  0.52946532  0.13770121\n",
      "   0.07782113  0.61838026  0.23249456  0.68255141]\n",
      " [-0.31011677 -2.43483776  1.0388246   2.18697965  0.44136444 -0.10015523\n",
      "  -0.13644474 -0.11905419  0.01740941 -1.12201873]\n",
      " [-0.51709446 -0.99702683  0.24879916 -0.29664115  0.49521132 -0.17470316\n",
      "   0.98633519  0.2135339   2.19069973 -1.89636092]\n",
      " [-0.64691669  0.90148689  2.52832571 -0.24863478  0.04366899 -0.22631424\n",
      "   1.33145711 -0.28730786  0.68006984 -0.3198016 ]\n",
      " [-1.27255876  0.31354772  0.50318481  1.29322588 -0.11044703 -0.61736206\n",
      "   0.5627611   0.24073709  0.28066508 -0.0731127 ]\n",
      " [ 1.16033857  0.36949272  1.90465871  1.1110567   0.6590498  -1.62743834\n",
      "   0.60231928  0.4202822   0.81095167  1.04444209]\n",
      " [-0.40087819  0.82400562 -0.56230543  1.95487808 -1.33195167 -1.76068856\n",
      "  -1.65072127 -0.89055558 -1.1191154   1.9560789 ]]\n"
     ]
    }
   ],
   "source": [
    "Sigma1 = np.random.randn(n, n)\n",
    "print(Sigma1)"
   ]
  }
 ],
 "metadata": {
  "kernelspec": {
   "display_name": "Python 3",
   "language": "python",
   "name": "python3"
  },
  "language_info": {
   "codemirror_mode": {
    "name": "ipython",
    "version": 3
   },
   "file_extension": ".py",
   "mimetype": "text/x-python",
   "name": "python",
   "nbconvert_exporter": "python",
   "pygments_lexer": "ipython3",
   "version": "3.7.4"
  }
 },
 "nbformat": 4,
 "nbformat_minor": 4
}
