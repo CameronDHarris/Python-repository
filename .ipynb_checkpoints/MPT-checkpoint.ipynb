{
 "cells": [
  {
   "cell_type": "code",
   "execution_count": 87,
   "metadata": {},
   "outputs": [],
   "source": [
    "import pandas as pd\n",
    "import numpy as np\n",
    "from pandas_datareader import data\n",
    "import cvxpy as cp"
   ]
  },
  {
   "cell_type": "code",
   "execution_count": 98,
   "metadata": {},
   "outputs": [],
   "source": [
    "tickers = np.array(['IVV', 'WMT', 'AMZN', 'AWK', 'TSLA', 'EHTH'])\n",
    "starts = '2018-01-01'\n",
    "ends = '2020-04-01'"
   ]
  },
  {
   "cell_type": "code",
   "execution_count": 94,
   "metadata": {},
   "outputs": [
    {
     "data": {
      "text/plain": [
       "array([-3.90128695e-28, -3.90164133e-28, -3.90219599e-28, -3.90165673e-28,\n",
       "       -3.90179540e-28, -3.90205733e-28,  1.00000000e+00])"
      ]
     },
     "execution_count": 94,
     "metadata": {},
     "output_type": "execute_result"
    }
   ],
   "source": [
    "mpt(tickers, start_date = starts, end_date = ends, risk_adverse = 0)"
   ]
  },
  {
   "cell_type": "code",
   "execution_count": 86,
   "metadata": {},
   "outputs": [],
   "source": [
    "def mpt(*tickers, start_date, end_date, risk_adverse):\n",
    "    prices = pd.DataFrame()\n",
    "    for ticker in tickers:\n",
    "        prices[ticker] = data.DataReader(ticker,\n",
    "                                 start = start_date,\n",
    "                                 end = end_date,\n",
    "                                 data_source = 'yahoo')['Adj Close']\n",
    "    n = len(prices.columns)\n",
    "    returns = np.array([])\n",
    "    for tkr in tickers:\n",
    "        returns = np.append(returns, (prices[tkr].iloc[-1] - prices[tkr].iloc[0]) / prices[tkr].iloc[0])\n",
    "    cov_matrix = ((prices.cov()).to_numpy())\n",
    "    w = cp.Variable(n)\n",
    "    gamma = cp.Parameter(nonneg = True)\n",
    "    returns1 = returns.T*w\n",
    "    risk = cp.quad_form(w, cov_matrix)\n",
    "    gamma.value = risk_adverse\n",
    "    objective = cp.Problem(cp.Maximize(returns1 - gamma*cp.quad_form(w, cov_matrix)),\n",
    "                       [cp.sum(w) == 1,\n",
    "                       w >= 0,\n",
    "                       ])\n",
    "    objective.solve()\n",
    "    return w.value"
   ]
  }
 ],
 "metadata": {
  "kernelspec": {
   "display_name": "Python 3",
   "language": "python",
   "name": "python3"
  },
  "language_info": {
   "codemirror_mode": {
    "name": "ipython",
    "version": 3
   },
   "file_extension": ".py",
   "mimetype": "text/x-python",
   "name": "python",
   "nbconvert_exporter": "python",
   "pygments_lexer": "ipython3",
   "version": "3.7.4"
  }
 },
 "nbformat": 4,
 "nbformat_minor": 4
}
