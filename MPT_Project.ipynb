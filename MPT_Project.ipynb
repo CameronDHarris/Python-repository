{
 "cells": [
  {
   "cell_type": "code",
   "execution_count": 1,
   "metadata": {},
   "outputs": [],
   "source": [
    "from html.parser import HTMLParser\n",
    "import requests\n",
    "import pandas as pd\n",
    "import numpy as np\n",
    "from bs4 import BeautifulSoup\n",
    "import matplotlib.pyplot as plt"
   ]
  },
  {
   "cell_type": "code",
   "execution_count": 2,
   "metadata": {},
   "outputs": [
    {
     "name": "stdin",
     "output_type": "stream",
     "text": [
      "How many stocks would you like in your portfolio? 2\n"
     ]
    },
    {
     "name": "stdout",
     "output_type": "stream",
     "text": [
      "Enter the ticker symbol of these stocks\n"
     ]
    },
    {
     "name": "stdin",
     "output_type": "stream",
     "text": [
      " EHTH\n",
      " VWDRY\n"
     ]
    },
    {
     "name": "stdout",
     "output_type": "stream",
     "text": [
      "['EHTH' 'VWDRY']\n"
     ]
    }
   ],
   "source": [
    "num = input(\"How many stocks would you like in your portfolio?\")\n",
    "print(\"Enter the ticker symbol of these stocks\")\n",
    "\n",
    "tkrs = np.array([])\n",
    "\n",
    "for i in range(int(num)):\n",
    "    tkrs = np.append(tkrs, input())\n",
    "\n",
    "print(tkrs)"
   ]
  },
  {
   "cell_type": "code",
   "execution_count": 49,
   "metadata": {},
   "outputs": [
    {
     "data": {
      "text/plain": [
       "1756"
      ]
     },
     "execution_count": 49,
     "metadata": {},
     "output_type": "execute_result"
    }
   ],
   "source": []
  },
  {
   "cell_type": "code",
   "execution_count": 3,
   "metadata": {},
   "outputs": [],
   "source": [
    "pages = np.array([])\n",
    "\n",
    "for tkr in tkrs:\n",
    "    pages = np.append(pages, requests.get('https://finance.yahoo.com/quote/' + tkr +'/history?p=' + tkr))\n",
    "\n",
    "\n",
    "#page = requests.get('https://finance.yahoo.com/quote/EHTH/history?p=EHTH')\n",
    "#print(page)\n",
    "#url = 'https://finance.yahoo.com/quote/EHTH/history?p=EHTH'"
   ]
  },
  {
   "cell_type": "code",
   "execution_count": 4,
   "metadata": {},
   "outputs": [
    {
     "name": "stdout",
     "output_type": "stream",
     "text": [
      "[<Response [200]> <Response [200]> <Response [200]>]\n"
     ]
    }
   ],
   "source": [
    "print(pages)"
   ]
  },
  {
   "cell_type": "code",
   "execution_count": 4,
   "metadata": {},
   "outputs": [],
   "source": [
    "soups = np.array([])\n",
    "\n",
    "for page in pages:\n",
    "    soups = np.append(soups, BeautifulSoup(page.content))\n",
    "\n",
    "#soup = BeautifulSoup(page.content)\n",
    "#print(soup)"
   ]
  },
  {
   "cell_type": "code",
   "execution_count": 5,
   "metadata": {},
   "outputs": [],
   "source": [
    "#clean numpy array of 'html' string to avoid errors later\n",
    "\n",
    "for i in range(len(soups)-2):\n",
    "    if soups[i] == \"html\":\n",
    "        soups = np.delete(soups, i)\n"
   ]
  },
  {
   "cell_type": "code",
   "execution_count": null,
   "metadata": {},
   "outputs": [],
   "source": []
  },
  {
   "cell_type": "raw",
   "metadata": {},
   "source": []
  },
  {
   "cell_type": "code",
   "execution_count": 30,
   "metadata": {},
   "outputs": [],
   "source": [
    "#repos = np.array([])\n",
    "\n",
    "#repos = np.append(repos, list(soups[1].find_all(\"td\", \"Py(10px)\")))\n",
    "\n",
    "#for soup in soups:\n",
    "#    repos = np.append(repos, soup.find_all(\"td\", \"Py(10px)\"))\n",
    "\n",
    "#repo = soup.find_all(\"td\", \"Py(10px)\")\n",
    "#print(len(repo))"
   ]
  },
  {
   "cell_type": "code",
   "execution_count": 32,
   "metadata": {},
   "outputs": [
    {
     "name": "stdout",
     "output_type": "stream",
     "text": [
      "<td class=\"Py(10px) Ta(start) Pend(10px)\" data-reactid=\"50\"><span data-reactid=\"51\">Dec 02, 2019</span></td>\n"
     ]
    }
   ],
   "source": []
  },
  {
   "cell_type": "code",
   "execution_count": 91,
   "metadata": {},
   "outputs": [
    {
     "name": "stdout",
     "output_type": "stream",
     "text": [
      "Empty DataFrame\n",
      "Columns: []\n",
      "Index: []\n"
     ]
    }
   ],
   "source": []
  },
  {
   "cell_type": "code",
   "execution_count": 6,
   "metadata": {},
   "outputs": [],
   "source": [
    "dataframe = pd.DataFrame()\n",
    "\n",
    "for soup in soups:\n",
    "    lst = np.array([])\n",
    "    m = 3\n",
    "    repo = soup.find_all(\"td\", \"Py(10px)\")\n",
    "    for item in repo:\n",
    "        if m % 7 == 0:\n",
    "            lst = np.append(lst, item.text)\n",
    "        m = m + 1\n",
    "    series = pd.Series(lst)\n",
    "    dataframe = dataframe.append(series, ignore_index = True)"
   ]
  },
  {
   "cell_type": "code",
   "execution_count": 7,
   "metadata": {},
   "outputs": [
    {
     "name": "stdout",
     "output_type": "stream",
     "text": [
      "      EHTH  VWDRY\n",
      "0    95.01  33.84\n",
      "1    93.69  33.95\n",
      "2    92.85  32.78\n",
      "3    92.65  32.39\n",
      "4    91.22  32.61\n",
      "..     ...    ...\n",
      "95  103.75  27.44\n",
      "96  105.50  27.49\n",
      "97  105.84  29.28\n",
      "98  108.40  29.25\n",
      "99   85.48  29.36\n",
      "\n",
      "[100 rows x 2 columns]\n"
     ]
    }
   ],
   "source": [
    "data = dataframe.transpose()\n",
    "data.columns = tkrs\n",
    "print(data)"
   ]
  },
  {
   "cell_type": "code",
   "execution_count": 8,
   "metadata": {},
   "outputs": [],
   "source": [
    "for tkr in tkrs:\n",
    "    data[tkr] = pd.to_numeric(data[tkr])"
   ]
  },
  {
   "cell_type": "code",
   "execution_count": 10,
   "metadata": {},
   "outputs": [
    {
     "name": "stdout",
     "output_type": "stream",
     "text": [
      "0      95.01\n",
      "1      93.69\n",
      "2      92.85\n",
      "3      92.65\n",
      "4      91.22\n",
      "       ...  \n",
      "95    103.75\n",
      "96    105.50\n",
      "97    105.84\n",
      "98    108.40\n",
      "99     85.48\n",
      "Name: EHTH, Length: 100, dtype: float64\n"
     ]
    }
   ],
   "source": [
    "print(data.EHTH)"
   ]
  },
  {
   "cell_type": "code",
   "execution_count": null,
   "metadata": {},
   "outputs": [],
   "source": []
  },
  {
   "cell_type": "code",
   "execution_count": 11,
   "metadata": {},
   "outputs": [],
   "source": [
    "stdev = np.array([])\n",
    "for tkr in tkrs:\n",
    "    stdev = np.append(stdev, data[tkr].std())"
   ]
  },
  {
   "cell_type": "code",
   "execution_count": 12,
   "metadata": {},
   "outputs": [
    {
     "name": "stdout",
     "output_type": "stream",
     "text": [
      "[16.02504107  2.57428426]\n"
     ]
    }
   ],
   "source": [
    "print(stdev)"
   ]
  },
  {
   "cell_type": "code",
   "execution_count": 13,
   "metadata": {},
   "outputs": [],
   "source": [
    "corrs = np.array([])\n",
    "\n",
    "for i in range(len(tkrs)):\n",
    "    for j in range(len(tkrs)):\n",
    "        corrs = np.append(corrs, data[tkrs[i]].corr(data[tkrs[j]]))"
   ]
  },
  {
   "cell_type": "code",
   "execution_count": 14,
   "metadata": {},
   "outputs": [
    {
     "name": "stdout",
     "output_type": "stream",
     "text": [
      "[1.         0.23937472 0.23937472 1.        ]\n"
     ]
    }
   ],
   "source": [
    "print(corrs)"
   ]
  },
  {
   "cell_type": "code",
   "execution_count": 15,
   "metadata": {},
   "outputs": [],
   "source": [
    "#create covariance matrix\n",
    "cov = np.array([[]])\n",
    "\n",
    "for i in range(len(tkrs)):\n",
    "    for j in range(len(tkrs)):\n",
    "        cov = np.append(cov, data[tkrs[i]].cov(data[tkrs[j]]))\n",
    "    "
   ]
  },
  {
   "cell_type": "code",
   "execution_count": 16,
   "metadata": {},
   "outputs": [
    {
     "name": "stdout",
     "output_type": "stream",
     "text": [
      "[256.80194117   9.8749278    9.8749278    6.62693943]\n"
     ]
    }
   ],
   "source": [
    "print(cov)"
   ]
  },
  {
   "cell_type": "code",
   "execution_count": 18,
   "metadata": {},
   "outputs": [
    {
     "name": "stdout",
     "output_type": "stream",
     "text": [
      "256.8019411717172\n"
     ]
    }
   ],
   "source": [
    "print(data[tkrs[0]].cov(data[tkrs[0]]))"
   ]
  },
  {
   "cell_type": "code",
   "execution_count": 19,
   "metadata": {},
   "outputs": [],
   "source": [
    "exp_return = np.array([])\n",
    "\n",
    "for tkr in tkrs:\n",
    "    exp_return = np.append(exp_return, (data.iloc[0][tkr]-data.iloc[99][tkr]) / data.iloc[99][tkr])"
   ]
  },
  {
   "cell_type": "code",
   "execution_count": 121,
   "metadata": {},
   "outputs": [
    {
     "name": "stdout",
     "output_type": "stream",
     "text": [
      "8.399999999999999\n"
     ]
    }
   ],
   "source": [
    "A = np.array([1.2])\n",
    "B = np.array([3,4])\n",
    "print(sum(A*B))"
   ]
  },
  {
   "cell_type": "code",
   "execution_count": 99,
   "metadata": {},
   "outputs": [],
   "source": [
    "from scipy.optimize import Bounds\n",
    "from scipy.optimize import minimize\n",
    "from scipy.optimize import NonlinearConstraint\n",
    "from scipy.optimize import LinearConstraint"
   ]
  },
  {
   "cell_type": "code",
   "execution_count": 155,
   "metadata": {},
   "outputs": [],
   "source": [
    "#w is the array of weights, r is the array of expected returns\n",
    "def expected_return(x):\n",
    "    return (sum(x[1:]*exp_return[1:]))"
   ]
  },
  {
   "cell_type": "code",
   "execution_count": 184,
   "metadata": {},
   "outputs": [
    {
     "name": "stdout",
     "output_type": "stream",
     "text": [
      "[3 8]\n"
     ]
    }
   ],
   "source": [
    "w = np.array([1,2])\n",
    "r = np.array([3,4])\n",
    "print(w*r)"
   ]
  },
  {
   "cell_type": "code",
   "execution_count": 181,
   "metadata": {},
   "outputs": [
    {
     "name": "stdin",
     "output_type": "stream",
     "text": [
      "What amount of risk (variance) are you willing to take? 5.0\n"
     ]
    }
   ],
   "source": [
    "risk = input(\"What amount of risk (variance) are you willing to take?\")"
   ]
  },
  {
   "cell_type": "code",
   "execution_count": 133,
   "metadata": {},
   "outputs": [],
   "source": [
    "bounds = Bounds(-1,1)\n",
    "#constraint = NonlinearConstraint()"
   ]
  },
  {
   "cell_type": "code",
   "execution_count": 185,
   "metadata": {},
   "outputs": [
    {
     "ename": "SyntaxError",
     "evalue": "invalid syntax (<ipython-input-185-6b88cdc06384>, line 3)",
     "output_type": "error",
     "traceback": [
      "\u001b[1;36m  File \u001b[1;32m\"<ipython-input-185-6b88cdc06384>\"\u001b[1;36m, line \u001b[1;32m3\u001b[0m\n\u001b[1;33m    return (((x[1:].transpose()).dot(cov)).dot(x[1:])-risk))\u001b[0m\n\u001b[1;37m                                                           ^\u001b[0m\n\u001b[1;31mSyntaxError\u001b[0m\u001b[1;31m:\u001b[0m invalid syntax\n"
     ]
    }
   ],
   "source": [
    "bounds = Bounds(50,100)\n",
    "def constr1(x):\n",
    "    return (((x[1:].transpose()).dot(cov)).dot(x[1:])-risk))\n",
    "\n",
    "def constr2(x):\n",
    "    return np.array([x[0]+x[1]-1])\n",
    "\n",
    "x0 = [1,1]\n",
    "con = [{'type': 'eq', 'fun': constr1}, {'type':'eq', 'fun': constr2}]\n",
    "res = minimize(expected_return, x0, bounds=bounds, method='SLSQP', constraints = con, options = {'disp':True})"
   ]
  },
  {
   "cell_type": "code",
   "execution_count": 56,
   "metadata": {},
   "outputs": [],
   "source": [
    "#def rosen(x):\n",
    "#    return sum(100.0*(x[1:]-x[:-1]**2.0)**2.0 + (1-x[:-1])**2.0)\n",
    "\n",
    "#x0 = np.array([1.3, 0.7, 0.8, 1.9, 1.2])\n",
    "#res = minimize(rosen, x0, method = 'nelder-mead', options = {'xtol':1e-8, 'disp':True})"
   ]
  },
  {
   "cell_type": "code",
   "execution_count": 171,
   "metadata": {},
   "outputs": [
    {
     "name": "stdout",
     "output_type": "stream",
     "text": [
      "[50. 50.]\n"
     ]
    }
   ],
   "source": [
    "print(res.x)"
   ]
  },
  {
   "cell_type": "code",
   "execution_count": null,
   "metadata": {},
   "outputs": [],
   "source": []
  },
  {
   "cell_type": "code",
   "execution_count": null,
   "metadata": {},
   "outputs": [],
   "source": []
  }
 ],
 "metadata": {
  "kernelspec": {
   "display_name": "Python 3",
   "language": "python",
   "name": "python3"
  },
  "language_info": {
   "codemirror_mode": {
    "name": "ipython",
    "version": 3
   },
   "file_extension": ".py",
   "mimetype": "text/x-python",
   "name": "python",
   "nbconvert_exporter": "python",
   "pygments_lexer": "ipython3",
   "version": "3.7.4"
  }
 },
 "nbformat": 4,
 "nbformat_minor": 4
}
